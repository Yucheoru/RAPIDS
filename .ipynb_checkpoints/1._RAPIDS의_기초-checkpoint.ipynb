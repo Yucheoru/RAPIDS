{
 "cells": [
  {
   "cell_type": "markdown",
   "id": "ceae0e5f-da2f-4085-a395-fc9fa3b2a1d2",
   "metadata": {},
   "source": [
    "# RAPIDS의 개요\n",
    "\n",
    "## RAPIDS\n",
    "- GPU를 활용하여 계산을 가속화하는 오픈소스 데이터 분석 및 머신 러닝 가속 플랫폼\n",
    "- Python을 기반으로 하며, Pandas 및 Scikit-Learn과 유사한 인터페이스 <br>\n",
    " => 가장 유명한 Python 베이스 데이터 사이언스 워크플로로 통합\n",
    "- Arrow, Spark유저들이 쉽게 가속화를 위한 RAPIDS플랫폼으로 데이터 이동 가능\n",
    "\n",
    "## Pandas"
   ]
  },
  {
   "cell_type": "code",
   "execution_count": null,
   "id": "c22fe54a-873a-489a-9394-a90d9c654251",
   "metadata": {},
   "outputs": [],
   "source": []
  }
 ],
 "metadata": {
  "kernelspec": {
   "display_name": "Python 3 (ipykernel)",
   "language": "python",
   "name": "python3"
  },
  "language_info": {
   "codemirror_mode": {
    "name": "ipython",
    "version": 3
   },
   "file_extension": ".py",
   "mimetype": "text/x-python",
   "name": "python",
   "nbconvert_exporter": "python",
   "pygments_lexer": "ipython3",
   "version": "3.12.3"
  }
 },
 "nbformat": 4,
 "nbformat_minor": 5
}
