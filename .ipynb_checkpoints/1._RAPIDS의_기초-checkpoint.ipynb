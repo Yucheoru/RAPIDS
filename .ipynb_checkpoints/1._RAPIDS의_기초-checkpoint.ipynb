{
 "cells": [
  {
   "cell_type": "markdown",
   "id": "ceae0e5f-da2f-4085-a395-fc9fa3b2a1d2",
   "metadata": {},
   "source": [
    "# RAPIDS의 개요\n",
    "\n",
    "## RAPIDS\n",
    "- GPU를 활용하여 계산을 가속화하는 오픈소스 데이터 분석 및 머신 러닝 가속 플랫폼\n",
    "- Python을 기반으로 하며, Pandas 및 Scikit-Learn과 유사한 인터페이스 <br>\n",
    "    => 가장 유명한 Python 베이스 데이터 사이언스 워크플로로 통합\n",
    "- Arrow, Spark유저들이 쉽게 가속화를 위한 RAPIDS플랫폼으로 데이터 이동 가능\n",
    "\n",
    "## Pandas\n",
    "- 데이터를 표로 나타내며 데이터를 조작하여 필터링, 변환, 집계, 병합, 시각화 등 유용한 작업을 수행할 수 있게 함\n",
    "\n",
    "## cuDF\n",
    "- Pandas는 시스템 메모리에 맞는 작은 데이터셋으로 작업하는데 환상적\n",
    "- 그러나, 데이터셋은 점점 커지고, 데이터 과학자들은 증가하는 복잡한 워크로드로 작업함 <br>\n",
    "    => 가속 컴퓨팅이 필요(cuDF)\n",
    "- cuDF는 기존 Pandas 워크플로우를 CPU에서 GPU로 쉽게 마이그레이션하게 해주는 RAPIDS 내의 패키지\n",
    "- 계산이 GPU가 제공하는 거대한 병렬화를 활용할 수 있게 해줌\n",
    "\n",
    "## Pandas vs cuDF\n",
    "- cuDF API는 Pandas API를 기반\n",
    "- 간단히, CPU 기반 워크플로우는 Pandas, GPU 기반 워크플로우는 cuDF\n",
    "\n",
    "## Scikit-Learn\n",
    "- 데이터의 다른 변수들 사이의 관계를 이해하기 위한 모델 필요 <br>\n",
    "    => Scikit-Learn 이용\n",
    "- 데이터로부터 모델을 빠르게 만들게 해주는 매우 강력한 툴킷\n",
    "\n",
    "## cuML\n",
    "- 많은 머신러닝 알고리즘의 기반인 수학적 연산은 행렬 곱셈인 경우가 많음\n",
    "    => 이러한 연산은 고도로 병렬화 가능하며, GPU로 크게 가속화 가능\n",
    "- cuML로 Scikit-Learn과 거의 동일한 인터페이스로 가속회된 머신러닝 모델 구축 가능\n",
    "\n",
    "## Scikit-Learn vs cuML\n",
    "- CPU 기반 머신러닝 모델 구축은 Scikit-Learn\n",
    "- GPU 기반 머신러닝 모델 구축은 cuML"
   ]
  }
 ],
 "metadata": {
  "kernelspec": {
   "display_name": "Python 3 (ipykernel)",
   "language": "python",
   "name": "python3"
  },
  "language_info": {
   "codemirror_mode": {
    "name": "ipython",
    "version": 3
   },
   "file_extension": ".py",
   "mimetype": "text/x-python",
   "name": "python",
   "nbconvert_exporter": "python",
   "pygments_lexer": "ipython3",
   "version": "3.11.5"
  }
 },
 "nbformat": 4,
 "nbformat_minor": 5
}
